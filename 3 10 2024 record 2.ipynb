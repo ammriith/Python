
{
 "cells": [
  {
   "cell_type": "code",
   "execution_count": 11,
   "id": "17802c46-8737-4fee-bc71-43fd7176eb16",
   "metadata": {},
   "outputs": [
    {
     "name": "stdin",
     "output_type": "stream",
     "text": [
      "enter the temperature in clecius: 24\n"
     ]
    },
    {
     "name": "stdout",
     "output_type": "stream",
     "text": [
      "the fahrenheit temperature is: 75.2\n"
     ]
    }
   ],
   "source": [
    "#CONVERT CELCIUS TO FAHRENHEIT\n",
    "T=int(input(\"enter the temperature in clecius:\"))\n",
    "F=T*9/5+32\n",
    "print(\"the fahrenheit temperature is:\",F)"
   ]
  },
  {
   "cell_type": "code",
   "execution_count": 15,
   "id": "d346cd74-c89e-4624-8312-569431d25824",
   "metadata": {},
   "outputs": [
    {
     "name": "stdin",
     "output_type": "stream",
     "text": [
      "enter the kilometers: 4\n"
     ]
    },
    {
     "name": "stdout",
     "output_type": "stream",
     "text": [
      "4.0 is equal to 2.48548\n"
     ]
    }
   ],
   "source": [
    "#KILOMETER TO FILES\n",
    "a=float(input(\"enter the kilometers:\"))\n",
    "b=a*(0.62137)\n",
    "print(\"{} is equal to {}\".format (a,b))\n"
   ]
  },
  {
   "cell_type": "code",
   "execution_count": 20,
   "id": "5347853f-3a0c-416b-885d-1e173978a737",
   "metadata": {},
   "outputs": [
    {
     "name": "stdin",
     "output_type": "stream",
     "text": [
      "enter the price of product A: 60\n",
      "enter the price of product B: 30\n",
      "enter the price of product C: 90\n"
     ]
    },
    {
     "name": "stdout",
     "output_type": "stream",
     "text": [
      "final price (after 15% discount): 153.0\n",
      "averege price:60.0\n",
      "product A is more expensive than price: False\n",
      "product B is more expensive than price: False\n",
      "product C is more expensive than price: False\n",
      "final price is in range between 60 to 200 :True\n"
     ]
    }
   ],
   "source": [
    "A=float(input(\"enter the price of product A:\"))\n",
    "B=float(input(\"enter the price of product B:\"))\n",
    "C=float(input(\"enter the price of product C:\"))\n",
    "total_price=A+B+C;\n",
    "discount=total_price*0.15\n",
    "final_price=total_price-discount\n",
    "print(f\"final price (after 15% discount): {final_price}\")\n",
    "avg_price=total_price/3;\n",
    "print(f\"averege price:{avg_price}\")\n",
    "print(f\"product A is more expensive than price: {A>final_price}\")\n",
    "print(f\"product B is more expensive than price: {B>final_price}\")\n",
    "print(f\"product C is more expensive than price: {C>final_price}\")\n",
    "print(f\"final price is in range between 60 to 200 :{final_price>60 and final_price<200}\")"
   ]
  },
  {
   "cell_type": "code",
   "execution_count": null,
   "id": "9fa79c4b-138b-4997-9caa-86278e4a181f",
   "metadata": {},
   "outputs": [],
   "source": []
  }
 ],
 "metadata": {
  "kernelspec": {
   "display_name": "Python 3 (ipykernel)",
   "language": "python",
   "name": "python3"
  },
  "language_info": {
   "codemirror_mode": {
    "name": "ipython",
    "version": 3
   },
   "file_extension": ".py",
   "mimetype": "text/x-python",
   "name": "python",
   "nbconvert_exporter": "python",
   "pygments_lexer": "ipython3",
   "version": "3.11.9"
  }
 },
 "nbformat": 4,
 "nbformat_minor": 5
}
