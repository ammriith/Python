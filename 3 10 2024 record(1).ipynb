{
 "cells": [
  {
   "cell_type": "code",
   "execution_count": 6,
   "id": "f5abf808-70c3-4ee0-92b9-91a9a636347a",
   "metadata": {},
   "outputs": [
    {
     "name": "stdin",
     "output_type": "stream",
     "text": [
      "enter an number : 5\n"
     ]
    },
    {
     "name": "stdout",
     "output_type": "stream",
     "text": [
      "5+55+555=615\n"
     ]
    }
   ],
   "source": [
    "#integer\n",
    "n=input(\"enter an number :\")\n",
    "result=int(n)+int(n*2)+int(n*3)\n",
    "print(f\"{n}+{n*2}+{n*3}={result}\")\n"
   ]
  },
  {
   "cell_type": "code",
   "execution_count": 3,
   "id": "69aa69fc-6691-41bf-92d4-4aadcc4f57c4",
   "metadata": {},
   "outputs": [
    {
     "name": "stdin",
     "output_type": "stream",
     "text": [
      "enter the radius 2\n"
     ]
    },
    {
     "name": "stdout",
     "output_type": "stream",
     "text": [
      "the area is: 12.56\n"
     ]
    }
   ],
   "source": [
    "import math\n",
    "r=float(input(\"enter the radius\"))\n",
    "area=3.14*r**2\n",
    "print(\"the area is:\",area)"
   ]
  },
  {
   "cell_type": "code",
   "execution_count": 4,
   "id": "cab30e8c-16d3-46aa-a9c3-300fbf336555",
   "metadata": {},
   "outputs": [
    {
     "name": "stdin",
     "output_type": "stream",
     "text": [
      "enter first number: 4\n",
      "enter the second number: 7\n",
      "enter the third number: 9\n"
     ]
    },
    {
     "name": "stdout",
     "output_type": "stream",
     "text": [
      "biggest number is: 9\n"
     ]
    }
   ],
   "source": [
    "import math\n",
    "a=int(input(\"enter first number:\"))\n",
    "b=int(input(\"enter the second number:\"))\n",
    "c=int(input(\"enter the third number:\"))\n",
    "biggest=max(a,b,c)\n",
    "print(\"biggest number is:\",biggest)"
   ]
  },
  {
   "cell_type": "code",
   "execution_count": null,
   "id": "589f2141-0bed-43b0-ab42-8f5ba8c0b889",
   "metadata": {},
   "outputs": [],
   "source": []
  }
 ],
 "metadata": {
  "kernelspec": {
   "display_name": "Python 3 (ipykernel)",
   "language": "python",
   "name": "python3"
  },
  "language_info": {
   "codemirror_mode": {
    "name": "ipython",
    "version": 3
   },
   "file_extension": ".py",
   "mimetype": "text/x-python",
   "name": "python",
   "nbconvert_exporter": "python",
   "pygments_lexer": "ipython3",
   "version": "3.11.9"
  }
 },
 "nbformat": 4,
 "nbformat_minor": 5
}
